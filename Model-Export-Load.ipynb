{
 "cells": [
  {
   "cell_type": "code",
   "execution_count": 1,
   "metadata": {},
   "outputs": [
    {
     "name": "stderr",
     "output_type": "stream",
     "text": [
      "/var/folders/5z/26yp_z91779dj66ktjgtwdph0000gn/T/ipykernel_17407/856690628.py:1: DeprecationWarning: \n",
      "Pyarrow will become a required dependency of pandas in the next major release of pandas (pandas 3.0),\n",
      "(to allow more performant data types, such as the Arrow string type, and better interoperability with other libraries)\n",
      "but was not found to be installed on your system.\n",
      "If this would cause problems for you,\n",
      "please provide us feedback at https://github.com/pandas-dev/pandas/issues/54466\n",
      "        \n",
      "  import pandas as pd\n"
     ]
    }
   ],
   "source": [
    "import pandas as pd\n",
    "import numpy as np\n",
    "# import matplotlib.pyplot as plt\n",
    "import seaborn as sns\n",
    "import nltk\n",
    "import re\n",
    "from nltk.corpus import stopwords\n",
    "# nltk.download('stopwords')\n",
    "from nltk.stem.porter import PorterStemmer\n",
    "import tensorflow as tf\n",
    "from tensorflow import keras\n",
    "import os\n",
    "from tensorflow.keras.layers import Embedding\n",
    "from tensorflow.keras.preprocessing.sequence import pad_sequences\n",
    "from tensorflow.keras.models import Sequential\n",
    "from tensorflow.keras.preprocessing.text import one_hot\n"
   ]
  },
  {
   "cell_type": "code",
   "execution_count": 2,
   "metadata": {},
   "outputs": [],
   "source": [
    "df = pd.read_csv(\"./datasets/train.csv\")\n",
    "\n",
    "split = 0.8\n",
    "df = df.sample(frac=1).dropna()\n",
    "train = df[:int(0.8*df.shape[0])]\n",
    "test = df[int(0.8*df.shape[0]):]\n",
    "\n",
    "x_train, y_train = train[\"title\"], train[\"label\"]\n",
    "x_test, y_test = test[\"title\"], test[\"label\"]\n",
    "\n",
    "x_train_enc = [one_hot(words,10000) for words in x_train]\n",
    "x_test_enc = [one_hot(words,10000) for words in x_test]\n",
    "\n",
    "sent_length=10\n",
    "x_train_enc_padded = pad_sequences(x_train_enc,padding='pre',maxlen=sent_length)\n",
    "\n",
    "x_test_enc_padded = pad_sequences(x_test_enc,padding='pre',maxlen=sent_length)"
   ]
  },
  {
   "cell_type": "code",
   "execution_count": 3,
   "metadata": {},
   "outputs": [
    {
     "data": {
      "text/plain": [
       "(14628, 10)"
      ]
     },
     "execution_count": 3,
     "metadata": {},
     "output_type": "execute_result"
    }
   ],
   "source": [
    "x_train_enc_padded.shape"
   ]
  },
  {
   "cell_type": "code",
   "execution_count": 4,
   "metadata": {},
   "outputs": [],
   "source": [
    "def create_model():\n",
    "    model = tf.keras.Sequential([\n",
    "    keras.layers.Dense(512, activation = \"relu\", input_shape=(10, )),\n",
    "    keras.layers.Dropout(0.2),\n",
    "    keras.layers.Dense(10)\n",
    "    ])\n",
    "    model.compile(optimizer = \"adam\", loss=tf.keras.losses.SparseCategoricalCrossentropy(from_logits=True),metrics=[tf.keras.metrics.SparseCategoricalAccuracy()])\n",
    "    return model"
   ]
  },
  {
   "cell_type": "code",
   "execution_count": 5,
   "metadata": {},
   "outputs": [],
   "source": [
    "model = create_model()"
   ]
  },
  {
   "cell_type": "code",
   "execution_count": 6,
   "metadata": {},
   "outputs": [
    {
     "name": "stdout",
     "output_type": "stream",
     "text": [
      "Model: \"sequential\"\n",
      "_________________________________________________________________\n",
      " Layer (type)                Output Shape              Param #   \n",
      "=================================================================\n",
      " dense (Dense)               (None, 512)               5632      \n",
      "                                                                 \n",
      " dropout (Dropout)           (None, 512)               0         \n",
      "                                                                 \n",
      " dense_1 (Dense)             (None, 10)                5130      \n",
      "                                                                 \n",
      "=================================================================\n",
      "Total params: 10762 (42.04 KB)\n",
      "Trainable params: 10762 (42.04 KB)\n",
      "Non-trainable params: 0 (0.00 Byte)\n",
      "_________________________________________________________________\n"
     ]
    }
   ],
   "source": [
    "model.summary()\n"
   ]
  },
  {
   "cell_type": "code",
   "execution_count": 7,
   "metadata": {},
   "outputs": [],
   "source": [
    "checkpoint_path = \"training_1/checkpoints\"\n",
    "checkpoint_dir = os.path.dirname(checkpoint_path)\n",
    "cp_callback = tf.keras.callbacks.ModelCheckpoint(filepath=checkpoint_path, save_weights_only=True, verbose=1)\n"
   ]
  },
  {
   "cell_type": "code",
   "execution_count": 8,
   "metadata": {},
   "outputs": [
    {
     "name": "stdout",
     "output_type": "stream",
     "text": [
      "Epoch 1/20\n",
      "456/458 [============================>.] - ETA: 0s - loss: 135.8290 - sparse_categorical_accuracy: 0.7015\n",
      "Epoch 1: saving model to training_1/checkpoints\n",
      "458/458 [==============================] - 1s 1ms/step - loss: 135.5922 - sparse_categorical_accuracy: 0.7017 - val_loss: 33.9668 - val_sparse_categorical_accuracy: 0.7785\n",
      "Epoch 2/20\n",
      "441/458 [===========================>..] - ETA: 0s - loss: 27.2839 - sparse_categorical_accuracy: 0.7312\n",
      "Epoch 2: saving model to training_1/checkpoints\n",
      "458/458 [==============================] - 1s 1ms/step - loss: 26.7259 - sparse_categorical_accuracy: 0.7314 - val_loss: 10.1266 - val_sparse_categorical_accuracy: 0.7949\n",
      "Epoch 3/20\n",
      "405/458 [=========================>....] - ETA: 0s - loss: 8.4203 - sparse_categorical_accuracy: 0.7421\n",
      "Epoch 3: saving model to training_1/checkpoints\n",
      "458/458 [==============================] - 0s 1ms/step - loss: 8.1240 - sparse_categorical_accuracy: 0.7412 - val_loss: 4.8520 - val_sparse_categorical_accuracy: 0.7252\n",
      "Epoch 4/20\n",
      "412/458 [=========================>....] - ETA: 0s - loss: 4.0893 - sparse_categorical_accuracy: 0.7314\n",
      "Epoch 4: saving model to training_1/checkpoints\n",
      "458/458 [==============================] - 0s 1ms/step - loss: 3.9869 - sparse_categorical_accuracy: 0.7312 - val_loss: 2.6682 - val_sparse_categorical_accuracy: 0.7637\n",
      "Epoch 5/20\n",
      "429/458 [===========================>..] - ETA: 0s - loss: 2.2449 - sparse_categorical_accuracy: 0.7386\n",
      "Epoch 5: saving model to training_1/checkpoints\n",
      "458/458 [==============================] - 1s 1ms/step - loss: 2.2080 - sparse_categorical_accuracy: 0.7371 - val_loss: 1.7097 - val_sparse_categorical_accuracy: 0.7621\n",
      "Epoch 6/20\n",
      "439/458 [===========================>..] - ETA: 0s - loss: 1.4523 - sparse_categorical_accuracy: 0.7423\n",
      "Epoch 6: saving model to training_1/checkpoints\n",
      "458/458 [==============================] - 1s 1ms/step - loss: 1.4441 - sparse_categorical_accuracy: 0.7425 - val_loss: 1.1623 - val_sparse_categorical_accuracy: 0.7293\n",
      "Epoch 7/20\n",
      "428/458 [===========================>..] - ETA: 0s - loss: 1.0864 - sparse_categorical_accuracy: 0.7393\n",
      "Epoch 7: saving model to training_1/checkpoints\n",
      "458/458 [==============================] - 1s 1ms/step - loss: 1.0753 - sparse_categorical_accuracy: 0.7412 - val_loss: 0.9230 - val_sparse_categorical_accuracy: 0.7339\n",
      "Epoch 8/20\n",
      "408/458 [=========================>....] - ETA: 0s - loss: 0.8875 - sparse_categorical_accuracy: 0.7409\n",
      "Epoch 8: saving model to training_1/checkpoints\n",
      "458/458 [==============================] - 1s 1ms/step - loss: 0.8782 - sparse_categorical_accuracy: 0.7417 - val_loss: 0.8105 - val_sparse_categorical_accuracy: 0.7758\n",
      "Epoch 9/20\n",
      "452/458 [============================>.] - ETA: 0s - loss: 0.7708 - sparse_categorical_accuracy: 0.7372\n",
      "Epoch 9: saving model to training_1/checkpoints\n",
      "458/458 [==============================] - 0s 1ms/step - loss: 0.7719 - sparse_categorical_accuracy: 0.7376 - val_loss: 0.6711 - val_sparse_categorical_accuracy: 0.7618\n",
      "Epoch 10/20\n",
      "452/458 [============================>.] - ETA: 0s - loss: 0.7055 - sparse_categorical_accuracy: 0.7452\n",
      "Epoch 10: saving model to training_1/checkpoints\n",
      "458/458 [==============================] - 0s 1ms/step - loss: 0.7057 - sparse_categorical_accuracy: 0.7449 - val_loss: 0.6179 - val_sparse_categorical_accuracy: 0.7566\n",
      "Epoch 11/20\n",
      "450/458 [============================>.] - ETA: 0s - loss: 0.6591 - sparse_categorical_accuracy: 0.7456\n",
      "Epoch 11: saving model to training_1/checkpoints\n",
      "458/458 [==============================] - 0s 1ms/step - loss: 0.6574 - sparse_categorical_accuracy: 0.7467 - val_loss: 0.6612 - val_sparse_categorical_accuracy: 0.7610\n",
      "Epoch 12/20\n",
      "454/458 [============================>.] - ETA: 0s - loss: 0.5928 - sparse_categorical_accuracy: 0.7561\n",
      "Epoch 12: saving model to training_1/checkpoints\n",
      "458/458 [==============================] - 0s 1ms/step - loss: 0.5923 - sparse_categorical_accuracy: 0.7558 - val_loss: 0.6576 - val_sparse_categorical_accuracy: 0.7730\n",
      "Epoch 13/20\n",
      "447/458 [============================>.] - ETA: 0s - loss: 0.5805 - sparse_categorical_accuracy: 0.7573\n",
      "Epoch 13: saving model to training_1/checkpoints\n",
      "458/458 [==============================] - 0s 1ms/step - loss: 0.5805 - sparse_categorical_accuracy: 0.7577 - val_loss: 0.5460 - val_sparse_categorical_accuracy: 0.7894\n",
      "Epoch 14/20\n",
      "452/458 [============================>.] - ETA: 0s - loss: 0.5318 - sparse_categorical_accuracy: 0.7737\n",
      "Epoch 14: saving model to training_1/checkpoints\n",
      "458/458 [==============================] - 0s 1ms/step - loss: 0.5319 - sparse_categorical_accuracy: 0.7741 - val_loss: 0.5212 - val_sparse_categorical_accuracy: 0.7884\n",
      "Epoch 15/20\n",
      "455/458 [============================>.] - ETA: 0s - loss: 0.5445 - sparse_categorical_accuracy: 0.7667\n",
      "Epoch 15: saving model to training_1/checkpoints\n",
      "458/458 [==============================] - 1s 1ms/step - loss: 0.5446 - sparse_categorical_accuracy: 0.7663 - val_loss: 0.5366 - val_sparse_categorical_accuracy: 0.7955\n",
      "Epoch 16/20\n",
      "450/458 [============================>.] - ETA: 0s - loss: 0.5519 - sparse_categorical_accuracy: 0.7678\n",
      "Epoch 16: saving model to training_1/checkpoints\n",
      "458/458 [==============================] - 0s 1ms/step - loss: 0.5524 - sparse_categorical_accuracy: 0.7685 - val_loss: 0.4951 - val_sparse_categorical_accuracy: 0.8124\n",
      "Epoch 17/20\n",
      "455/458 [============================>.] - ETA: 0s - loss: 0.5209 - sparse_categorical_accuracy: 0.7770\n",
      "Epoch 17: saving model to training_1/checkpoints\n",
      "458/458 [==============================] - 0s 1ms/step - loss: 0.5207 - sparse_categorical_accuracy: 0.7769 - val_loss: 0.4637 - val_sparse_categorical_accuracy: 0.7840\n",
      "Epoch 18/20\n",
      "451/458 [============================>.] - ETA: 0s - loss: 0.4961 - sparse_categorical_accuracy: 0.7790\n",
      "Epoch 18: saving model to training_1/checkpoints\n",
      "458/458 [==============================] - 0s 1ms/step - loss: 0.4954 - sparse_categorical_accuracy: 0.7795 - val_loss: 0.4827 - val_sparse_categorical_accuracy: 0.8067\n",
      "Epoch 19/20\n",
      "452/458 [============================>.] - ETA: 0s - loss: 0.5068 - sparse_categorical_accuracy: 0.7786\n",
      "Epoch 19: saving model to training_1/checkpoints\n",
      "458/458 [==============================] - 0s 1ms/step - loss: 0.5068 - sparse_categorical_accuracy: 0.7782 - val_loss: 0.4513 - val_sparse_categorical_accuracy: 0.8089\n",
      "Epoch 20/20\n",
      "448/458 [============================>.] - ETA: 0s - loss: 0.4999 - sparse_categorical_accuracy: 0.7804\n",
      "Epoch 20: saving model to training_1/checkpoints\n",
      "458/458 [==============================] - 0s 1ms/step - loss: 0.5002 - sparse_categorical_accuracy: 0.7809 - val_loss: 0.4393 - val_sparse_categorical_accuracy: 0.8048\n"
     ]
    },
    {
     "data": {
      "text/plain": [
       "<keras.src.callbacks.History at 0x281755ba0>"
      ]
     },
     "execution_count": 8,
     "metadata": {},
     "output_type": "execute_result"
    }
   ],
   "source": [
    "model.fit(x_train_enc_padded, y_train, epochs = 20, validation_data=(x_test_enc_padded, y_test), callbacks=[cp_callback])\n"
   ]
  },
  {
   "cell_type": "code",
   "execution_count": 9,
   "metadata": {},
   "outputs": [
    {
     "name": "stdout",
     "output_type": "stream",
     "text": [
      "115/115 - 0s - loss: 0.4393 - sparse_categorical_accuracy: 0.8048 - 75ms/epoch - 653us/step\n",
      "Untrained model, accuracy: 80.48%\n"
     ]
    }
   ],
   "source": [
    "loss, acc = model.evaluate(x_test_enc_padded,y_test, verbose=2)\n",
    "print(f\"Untrained model, accuracy: {100*acc:5.2f}%\")"
   ]
  },
  {
   "cell_type": "code",
   "execution_count": 10,
   "metadata": {},
   "outputs": [
    {
     "data": {
      "text/plain": [
       "['checkpoints.data-00000-of-00001', 'checkpoint', 'checkpoints.index']"
      ]
     },
     "execution_count": 10,
     "metadata": {},
     "output_type": "execute_result"
    }
   ],
   "source": [
    "os.listdir(checkpoint_dir)"
   ]
  },
  {
   "cell_type": "code",
   "execution_count": 11,
   "metadata": {},
   "outputs": [],
   "source": [
    "model_loaded = create_model()"
   ]
  },
  {
   "cell_type": "code",
   "execution_count": 12,
   "metadata": {},
   "outputs": [
    {
     "name": "stdout",
     "output_type": "stream",
     "text": [
      "115/115 [==============================] - 0s 549us/step - loss: 1431.5901 - sparse_categorical_accuracy: 0.0041\n",
      "Untrained model, accuracy:  0.41%\n"
     ]
    }
   ],
   "source": [
    "loss_loaded, acc_loaded = model_loaded.evaluate(x_test_enc_padded, y_test)\n",
    "print(f\"Untrained model, accuracy: {100*acc_loaded:5.2f}%\")\n"
   ]
  },
  {
   "cell_type": "code",
   "execution_count": 13,
   "metadata": {},
   "outputs": [
    {
     "data": {
      "text/plain": [
       "<tensorflow.python.checkpoint.checkpoint.CheckpointLoadStatus at 0x282a6a020>"
      ]
     },
     "execution_count": 13,
     "metadata": {},
     "output_type": "execute_result"
    }
   ],
   "source": [
    "model_loaded.load_weights(checkpoint_path)"
   ]
  },
  {
   "cell_type": "code",
   "execution_count": 14,
   "metadata": {},
   "outputs": [
    {
     "name": "stdout",
     "output_type": "stream",
     "text": [
      "115/115 [==============================] - 0s 534us/step - loss: 0.4393 - sparse_categorical_accuracy: 0.8048\n",
      "Trained model, accuracy: 80.48%\n"
     ]
    }
   ],
   "source": [
    "loss_loaded_trained, acc_loaded_trained = model_loaded.evaluate(x_test_enc_padded, y_test)\n",
    "print(f\"Trained model, accuracy: {100*acc_loaded_trained:5.2f}%\")"
   ]
  }
 ],
 "metadata": {
  "kernelspec": {
   "display_name": "Python 3",
   "language": "python",
   "name": "python3"
  },
  "language_info": {
   "codemirror_mode": {
    "name": "ipython",
    "version": 3
   },
   "file_extension": ".py",
   "mimetype": "text/x-python",
   "name": "python",
   "nbconvert_exporter": "python",
   "pygments_lexer": "ipython3",
   "version": "3.10.13"
  }
 },
 "nbformat": 4,
 "nbformat_minor": 2
}
