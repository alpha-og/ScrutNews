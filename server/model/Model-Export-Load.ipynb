{
 "cells": [
  {
   "cell_type": "code",
   "execution_count": 4,
   "metadata": {},
   "outputs": [],
   "source": [
    "import pandas as pd\n",
    "import numpy as np\n",
    "# import matplotlib.pyplot as plt\n",
    "import seaborn as sns\n",
    "import nltk\n",
    "import re\n",
    "from nltk.corpus import stopwords\n",
    "# nltk.download('stopwords')\n",
    "from nltk.stem.porter import PorterStemmer\n",
    "import tensorflow as tf\n",
    "from tensorflow import keras\n",
    "import os\n",
    "from tensorflow.keras.layers import Embedding\n",
    "from tensorflow.keras.preprocessing.sequence import pad_sequences\n",
    "from tensorflow.keras.models import Sequential\n",
    "from tensorflow.keras.preprocessing.text import one_hot\n"
   ]
  },
  {
   "cell_type": "code",
   "execution_count": 7,
   "metadata": {},
   "outputs": [],
   "source": [
    "df = pd.read_csv(\"./server/datasets/train.csv\")\n",
    "\n",
    "split = 0.8\n",
    "df = df.sample(frac=1).dropna()\n",
    "train = df[:int(0.8*df.shape[0])]\n",
    "test = df[int(0.8*df.shape[0]):]\n",
    "\n",
    "x_train, y_train = train[\"title\"], train[\"label\"]\n",
    "x_test, y_test = test[\"title\"], test[\"label\"]\n",
    "\n",
    "x_train_enc = [one_hot(words,10000) for words in x_train]\n",
    "x_test_enc = [one_hot(words,10000) for words in x_test]\n",
    "\n",
    "sent_length=10\n",
    "x_train_enc_padded = pad_sequences(x_train_enc,padding='pre',maxlen=sent_length)\n",
    "\n",
    "x_test_enc_padded = pad_sequences(x_test_enc,padding='pre',maxlen=sent_length)"
   ]
  },
  {
   "cell_type": "code",
   "execution_count": null,
   "metadata": {},
   "outputs": [
    {
     "data": {
      "text/plain": [
       "(14628, 10)"
      ]
     },
     "execution_count": 3,
     "metadata": {},
     "output_type": "execute_result"
    }
   ],
   "source": [
    "x_train_enc_padded.shape"
   ]
  },
  {
   "cell_type": "code",
   "execution_count": 8,
   "metadata": {},
   "outputs": [],
   "source": [
    "def create_model():\n",
    "    model = tf.keras.Sequential([\n",
    "    keras.layers.Dense(512, activation = \"relu\", input_shape=(10, )),\n",
    "    keras.layers.Dropout(0.2),\n",
    "    keras.layers.Dense(10)\n",
    "    ])\n",
    "    model.compile(optimizer = \"adam\", loss=tf.keras.losses.SparseCategoricalCrossentropy(from_logits=True),metrics=[tf.keras.metrics.SparseCategoricalAccuracy()])\n",
    "    return model"
   ]
  },
  {
   "cell_type": "code",
   "execution_count": 9,
   "metadata": {},
   "outputs": [],
   "source": [
    "model = create_model()"
   ]
  },
  {
   "cell_type": "code",
   "execution_count": 10,
   "metadata": {},
   "outputs": [
    {
     "name": "stdout",
     "output_type": "stream",
     "text": [
      "Model: \"sequential\"\n",
      "_________________________________________________________________\n",
      " Layer (type)                Output Shape              Param #   \n",
      "=================================================================\n",
      " dense (Dense)               (None, 512)               5632      \n",
      "                                                                 \n",
      " dropout (Dropout)           (None, 512)               0         \n",
      "                                                                 \n",
      " dense_1 (Dense)             (None, 10)                5130      \n",
      "                                                                 \n",
      "=================================================================\n",
      "Total params: 10762 (42.04 KB)\n",
      "Trainable params: 10762 (42.04 KB)\n",
      "Non-trainable params: 0 (0.00 Byte)\n",
      "_________________________________________________________________\n"
     ]
    }
   ],
   "source": [
    "model.summary()\n"
   ]
  },
  {
   "cell_type": "code",
   "execution_count": 11,
   "metadata": {},
   "outputs": [],
   "source": [
    "checkpoint_path = \"training_1/checkpoints\"\n",
    "checkpoint_dir = os.path.dirname(checkpoint_path)\n",
    "cp_callback = tf.keras.callbacks.ModelCheckpoint(filepath=checkpoint_path, save_weights_only=True, verbose=1)\n"
   ]
  },
  {
   "cell_type": "code",
   "execution_count": 14,
   "metadata": {},
   "outputs": [
    {
     "name": "stdout",
     "output_type": "stream",
     "text": [
      "Epoch 1/20\n",
      "458/458 [==============================] - ETA: 0s - loss: 0.5654 - sparse_categorical_accuracy: 0.7391\n",
      "Epoch 1: saving model to training_1/checkpoints\n",
      "458/458 [==============================] - 1s 1ms/step - loss: 0.5654 - sparse_categorical_accuracy: 0.7391 - val_loss: 0.5668 - val_sparse_categorical_accuracy: 0.7066\n",
      "Epoch 2/20\n",
      "430/458 [===========================>..] - ETA: 0s - loss: 0.6006 - sparse_categorical_accuracy: 0.7261\n",
      "Epoch 2: saving model to training_1/checkpoints\n",
      "458/458 [==============================] - 1s 1ms/step - loss: 0.5990 - sparse_categorical_accuracy: 0.7250 - val_loss: 0.5320 - val_sparse_categorical_accuracy: 0.7583\n",
      "Epoch 3/20\n",
      "403/458 [=========================>....] - ETA: 0s - loss: 0.5726 - sparse_categorical_accuracy: 0.7392\n",
      "Epoch 3: saving model to training_1/checkpoints\n",
      "458/458 [==============================] - 0s 1ms/step - loss: 0.5713 - sparse_categorical_accuracy: 0.7421 - val_loss: 0.5498 - val_sparse_categorical_accuracy: 0.7654\n",
      "Epoch 4/20\n",
      "408/458 [=========================>....] - ETA: 0s - loss: 0.5650 - sparse_categorical_accuracy: 0.7396\n",
      "Epoch 4: saving model to training_1/checkpoints\n",
      "458/458 [==============================] - 0s 1ms/step - loss: 0.5656 - sparse_categorical_accuracy: 0.7389 - val_loss: 0.5981 - val_sparse_categorical_accuracy: 0.7689\n",
      "Epoch 5/20\n",
      "408/458 [=========================>....] - ETA: 0s - loss: 0.5787 - sparse_categorical_accuracy: 0.7272\n",
      "Epoch 5: saving model to training_1/checkpoints\n",
      "458/458 [==============================] - 0s 1ms/step - loss: 0.5734 - sparse_categorical_accuracy: 0.7302 - val_loss: 0.5048 - val_sparse_categorical_accuracy: 0.7648\n",
      "Epoch 6/20\n",
      "405/458 [=========================>....] - ETA: 0s - loss: 0.5663 - sparse_categorical_accuracy: 0.7397\n",
      "Epoch 6: saving model to training_1/checkpoints\n",
      "458/458 [==============================] - 0s 1ms/step - loss: 0.5678 - sparse_categorical_accuracy: 0.7391 - val_loss: 0.5481 - val_sparse_categorical_accuracy: 0.6948\n",
      "Epoch 7/20\n",
      "404/458 [=========================>....] - ETA: 0s - loss: 0.5711 - sparse_categorical_accuracy: 0.7338\n",
      "Epoch 7: saving model to training_1/checkpoints\n",
      "458/458 [==============================] - 0s 1ms/step - loss: 0.5695 - sparse_categorical_accuracy: 0.7350 - val_loss: 0.5229 - val_sparse_categorical_accuracy: 0.7667\n",
      "Epoch 8/20\n",
      "435/458 [===========================>..] - ETA: 0s - loss: 0.5630 - sparse_categorical_accuracy: 0.7298\n",
      "Epoch 8: saving model to training_1/checkpoints\n",
      "458/458 [==============================] - 1s 1ms/step - loss: 0.5594 - sparse_categorical_accuracy: 0.7317 - val_loss: 0.5189 - val_sparse_categorical_accuracy: 0.7717\n",
      "Epoch 9/20\n",
      "404/458 [=========================>....] - ETA: 0s - loss: 0.5559 - sparse_categorical_accuracy: 0.7353\n",
      "Epoch 9: saving model to training_1/checkpoints\n",
      "458/458 [==============================] - 0s 1ms/step - loss: 0.5551 - sparse_categorical_accuracy: 0.7343 - val_loss: 0.5047 - val_sparse_categorical_accuracy: 0.7793\n",
      "Epoch 10/20\n",
      "457/458 [============================>.] - ETA: 0s - loss: 0.5646 - sparse_categorical_accuracy: 0.7300\n",
      "Epoch 10: saving model to training_1/checkpoints\n",
      "458/458 [==============================] - 0s 1ms/step - loss: 0.5647 - sparse_categorical_accuracy: 0.7300 - val_loss: 0.5257 - val_sparse_categorical_accuracy: 0.7739\n",
      "Epoch 11/20\n",
      "438/458 [===========================>..] - ETA: 0s - loss: 0.5631 - sparse_categorical_accuracy: 0.7243\n",
      "Epoch 11: saving model to training_1/checkpoints\n",
      "458/458 [==============================] - 1s 1ms/step - loss: 0.5632 - sparse_categorical_accuracy: 0.7250 - val_loss: 0.5100 - val_sparse_categorical_accuracy: 0.7498\n",
      "Epoch 12/20\n",
      "401/458 [=========================>....] - ETA: 0s - loss: 0.5563 - sparse_categorical_accuracy: 0.7302\n",
      "Epoch 12: saving model to training_1/checkpoints\n",
      "458/458 [==============================] - 0s 1ms/step - loss: 0.5563 - sparse_categorical_accuracy: 0.7309 - val_loss: 0.5471 - val_sparse_categorical_accuracy: 0.7112\n",
      "Epoch 13/20\n",
      "402/458 [=========================>....] - ETA: 0s - loss: 0.5990 - sparse_categorical_accuracy: 0.7144\n",
      "Epoch 13: saving model to training_1/checkpoints\n",
      "458/458 [==============================] - 0s 1ms/step - loss: 0.5926 - sparse_categorical_accuracy: 0.7174 - val_loss: 0.5068 - val_sparse_categorical_accuracy: 0.7725\n",
      "Epoch 14/20\n",
      "404/458 [=========================>....] - ETA: 0s - loss: 0.5733 - sparse_categorical_accuracy: 0.7323\n",
      "Epoch 14: saving model to training_1/checkpoints\n",
      "458/458 [==============================] - 0s 1ms/step - loss: 0.5701 - sparse_categorical_accuracy: 0.7317 - val_loss: 0.4922 - val_sparse_categorical_accuracy: 0.7793\n",
      "Epoch 15/20\n",
      "407/458 [=========================>....] - ETA: 0s - loss: 0.5488 - sparse_categorical_accuracy: 0.7365\n",
      "Epoch 15: saving model to training_1/checkpoints\n",
      "458/458 [==============================] - 0s 1ms/step - loss: 0.5462 - sparse_categorical_accuracy: 0.7374 - val_loss: 0.4972 - val_sparse_categorical_accuracy: 0.7700\n",
      "Epoch 16/20\n",
      "403/458 [=========================>....] - ETA: 0s - loss: 0.5473 - sparse_categorical_accuracy: 0.7329\n",
      "Epoch 16: saving model to training_1/checkpoints\n",
      "458/458 [==============================] - 0s 1ms/step - loss: 0.5510 - sparse_categorical_accuracy: 0.7313 - val_loss: 0.5221 - val_sparse_categorical_accuracy: 0.7818\n",
      "Epoch 17/20\n",
      "428/458 [===========================>..] - ETA: 0s - loss: 0.5747 - sparse_categorical_accuracy: 0.7179\n",
      "Epoch 17: saving model to training_1/checkpoints\n",
      "458/458 [==============================] - 1s 1ms/step - loss: 0.5723 - sparse_categorical_accuracy: 0.7192 - val_loss: 0.5527 - val_sparse_categorical_accuracy: 0.7662\n",
      "Epoch 18/20\n",
      "403/458 [=========================>....] - ETA: 0s - loss: 0.5666 - sparse_categorical_accuracy: 0.7274\n",
      "Epoch 18: saving model to training_1/checkpoints\n",
      "458/458 [==============================] - 0s 1ms/step - loss: 0.5678 - sparse_categorical_accuracy: 0.7262 - val_loss: 0.5663 - val_sparse_categorical_accuracy: 0.7676\n",
      "Epoch 19/20\n",
      "450/458 [============================>.] - ETA: 0s - loss: 0.5704 - sparse_categorical_accuracy: 0.7234\n",
      "Epoch 19: saving model to training_1/checkpoints\n",
      "458/458 [==============================] - 0s 1ms/step - loss: 0.5702 - sparse_categorical_accuracy: 0.7232 - val_loss: 0.5468 - val_sparse_categorical_accuracy: 0.7178\n",
      "Epoch 20/20\n",
      "408/458 [=========================>....] - ETA: 0s - loss: 0.5725 - sparse_categorical_accuracy: 0.7234\n",
      "Epoch 20: saving model to training_1/checkpoints\n",
      "458/458 [==============================] - 0s 1ms/step - loss: 0.5755 - sparse_categorical_accuracy: 0.7241 - val_loss: 0.5266 - val_sparse_categorical_accuracy: 0.7547\n"
     ]
    },
    {
     "data": {
      "text/plain": [
       "<keras.src.callbacks.History at 0x28d8523b0>"
      ]
     },
     "execution_count": 14,
     "metadata": {},
     "output_type": "execute_result"
    }
   ],
   "source": [
    "model.fit(x_train_enc_padded, y_train, epochs = 20, validation_data=(x_test_enc_padded, y_test), callbacks=[cp_callback])\n"
   ]
  },
  {
   "cell_type": "code",
   "execution_count": 15,
   "metadata": {},
   "outputs": [
    {
     "name": "stdout",
     "output_type": "stream",
     "text": [
      "115/115 - 0s - loss: 0.5266 - sparse_categorical_accuracy: 0.7547 - 80ms/epoch - 696us/step\n",
      "model, accuracy: 75.47%\n"
     ]
    }
   ],
   "source": [
    "loss, acc = model.evaluate(x_test_enc_padded,y_test, verbose=2)\n",
    "print(f\"model, accuracy: {100*acc:5.2f}%\")"
   ]
  },
  {
   "cell_type": "code",
   "execution_count": 16,
   "metadata": {},
   "outputs": [
    {
     "data": {
      "text/plain": [
       "['checkpoints.data-00000-of-00001', 'checkpoint', 'checkpoints.index']"
      ]
     },
     "execution_count": 16,
     "metadata": {},
     "output_type": "execute_result"
    }
   ],
   "source": [
    "os.listdir(checkpoint_dir)"
   ]
  },
  {
   "cell_type": "code",
   "execution_count": 18,
   "metadata": {},
   "outputs": [],
   "source": [
    "model_loaded = create_model()"
   ]
  },
  {
   "cell_type": "code",
   "execution_count": 19,
   "metadata": {},
   "outputs": [
    {
     "name": "stdout",
     "output_type": "stream",
     "text": [
      "115/115 [==============================] - 0s 652us/step - loss: 617.9942 - sparse_categorical_accuracy: 0.5228\n",
      "Untrained model, accuracy: 52.28%\n"
     ]
    }
   ],
   "source": [
    "loss_loaded, acc_loaded = model_loaded.evaluate(x_test_enc_padded, y_test)\n",
    "print(f\"Untrained model, accuracy: {100*acc_loaded:5.2f}%\")\n"
   ]
  },
  {
   "cell_type": "code",
   "execution_count": 21,
   "metadata": {},
   "outputs": [
    {
     "data": {
      "text/plain": [
       "<tensorflow.python.checkpoint.checkpoint.CheckpointLoadStatus at 0x28d83ed40>"
      ]
     },
     "execution_count": 21,
     "metadata": {},
     "output_type": "execute_result"
    }
   ],
   "source": [
    "model_loaded.load_weights(checkpoint_path)"
   ]
  },
  {
   "cell_type": "code",
   "execution_count": 22,
   "metadata": {},
   "outputs": [
    {
     "name": "stdout",
     "output_type": "stream",
     "text": [
      "115/115 [==============================] - 0s 559us/step - loss: 0.5266 - sparse_categorical_accuracy: 0.7547\n",
      "Trained model, accuracy: 75.47%\n"
     ]
    }
   ],
   "source": [
    "loss_loaded_trained, acc_loaded_trained = model_loaded.evaluate(x_test_enc_padded, y_test)\n",
    "print(f\"Trained model, accuracy: {100*acc_loaded_trained:5.2f}%\")"
   ]
  }
 ],
 "metadata": {
  "kernelspec": {
   "display_name": "Python 3",
   "language": "python",
   "name": "python3"
  },
  "language_info": {
   "codemirror_mode": {
    "name": "ipython",
    "version": 3
   },
   "file_extension": ".py",
   "mimetype": "text/x-python",
   "name": "python",
   "nbconvert_exporter": "python",
   "pygments_lexer": "ipython3",
   "version": "3.10.13"
  }
 },
 "nbformat": 4,
 "nbformat_minor": 2
}
