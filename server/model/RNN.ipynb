{
 "cells": [
  {
   "cell_type": "code",
   "execution_count": 1,
   "metadata": {},
   "outputs": [],
   "source": [
    "from model import encode_input_data, processData\n",
    "from tensorflow.keras.models import Sequential\n",
    "from tensorflow.keras.preprocessing.text import one_hot\n",
    "from tensorflow.keras.layers import Dropout\n",
    "from tensorflow.keras.layers import Embedding\n",
    "from tensorflow.keras.layers import SimpleRNN\n",
    "from tensorflow.keras.layers import Dense\n",
    "import os\n"
   ]
  },
  {
   "cell_type": "code",
   "execution_count": 4,
   "metadata": {},
   "outputs": [
    {
     "data": {
      "text/plain": [
       "['.DS_Store',\n",
       " 'datasets',\n",
       " '__pycache__',\n",
       " 'model.py',\n",
       " 'RNN.ipynb',\n",
       " 'Model-Export-Load.ipynb',\n",
       " 'training_1']"
      ]
     },
     "execution_count": 4,
     "metadata": {},
     "output_type": "execute_result"
    }
   ],
   "source": [
    "os.listdir()"
   ]
  },
  {
   "cell_type": "code",
   "execution_count": 2,
   "metadata": {},
   "outputs": [],
   "source": [
    "path = f\"datasets/train.csv\"\n",
    "x_train, x_test, y_train, y_test = processData(path)\n"
   ]
  },
  {
   "cell_type": "code",
   "execution_count": 3,
   "metadata": {},
   "outputs": [
    {
     "data": {
      "text/plain": [
       "array([[2840,  690, 5132, ..., 6085, 1670, 9579],\n",
       "       [5722, 5924, 6053, ..., 4290, 6773, 7324],\n",
       "       [2840, 7227, 5687, ..., 4290, 6773, 7324],\n",
       "       ...,\n",
       "       [1508, 8385, 9239, ..., 5926, 8195, 7568],\n",
       "       [4461, 2840, 1116, ..., 8819,  696, 1081],\n",
       "       [9456, 8224, 5839, ..., 4706, 8748, 2558]], dtype=int32)"
      ]
     },
     "execution_count": 3,
     "metadata": {},
     "output_type": "execute_result"
    }
   ],
   "source": [
    "x_train"
   ]
  },
  {
   "cell_type": "code",
   "execution_count": 4,
   "metadata": {},
   "outputs": [],
   "source": [
    "def createModel():\n",
    "    embedding_vector_features=40\n",
    "\n",
    "    rnn = Sequential()\n",
    "    rnn.add(Embedding(10000,embedding_vector_features,input_length=10))\n",
    "    rnn.add(SimpleRNN(100,return_sequences=False))\n",
    "\n",
    "    rnn.add(Dense(1, activation='sigmoid'))\n",
    "\n",
    "    rnn.summary()\n",
    "    return rnn"
   ]
  },
  {
   "cell_type": "code",
   "execution_count": 5,
   "metadata": {},
   "outputs": [
    {
     "name": "stdout",
     "output_type": "stream",
     "text": [
      "Model: \"sequential\"\n",
      "_________________________________________________________________\n",
      " Layer (type)                Output Shape              Param #   \n",
      "=================================================================\n",
      " embedding (Embedding)       (None, 10, 40)            400000    \n",
      "                                                                 \n",
      " simple_rnn (SimpleRNN)      (None, 100)               14100     \n",
      "                                                                 \n",
      " dense (Dense)               (None, 1)                 101       \n",
      "                                                                 \n",
      "=================================================================\n",
      "Total params: 414201 (1.58 MB)\n",
      "Trainable params: 414201 (1.58 MB)\n",
      "Non-trainable params: 0 (0.00 Byte)\n",
      "_________________________________________________________________\n",
      "Epoch 1/5\n",
      "458/458 [==============================] - 2s 4ms/step - loss: 0.2442 - accuracy: 0.8915 - val_loss: 0.1611 - val_accuracy: 0.9357\n",
      "Epoch 2/5\n",
      "458/458 [==============================] - 2s 4ms/step - loss: 0.0685 - accuracy: 0.9758 - val_loss: 0.1892 - val_accuracy: 0.9251\n",
      "Epoch 3/5\n",
      "458/458 [==============================] - 2s 3ms/step - loss: 0.0130 - accuracy: 0.9958 - val_loss: 0.3045 - val_accuracy: 0.9292\n",
      "Epoch 4/5\n",
      "458/458 [==============================] - 2s 3ms/step - loss: 0.0029 - accuracy: 0.9994 - val_loss: 0.3260 - val_accuracy: 0.9180\n",
      "Epoch 5/5\n",
      "458/458 [==============================] - 2s 3ms/step - loss: 4.0282e-04 - accuracy: 1.0000 - val_loss: 0.3785 - val_accuracy: 0.9226\n"
     ]
    }
   ],
   "source": [
    "rnn1 = createModel()\n",
    "rnn1.compile(optimizer='adam', loss='binary_crossentropy', metrics=['accuracy'])\n",
    "history = rnn1.fit(x_train, y_train,epochs=5,batch_size=32,validation_data=(x_test,y_test))"
   ]
  },
  {
   "cell_type": "code",
   "execution_count": 6,
   "metadata": {},
   "outputs": [
    {
     "name": "stdout",
     "output_type": "stream",
     "text": [
      "1/1 [==============================] - 0s 81ms/step\n"
     ]
    }
   ],
   "source": [
    "y_rnn1=rnn1.predict(encode_input_data([\"House Dem Aide: We Didn’t Even See Comey’s Letter Until Jason Chaffetz Tweeted It\"]))\n"
   ]
  },
  {
   "cell_type": "code",
   "execution_count": 7,
   "metadata": {},
   "outputs": [
    {
     "data": {
      "text/plain": [
       "array([[0.9992551]], dtype=float32)"
      ]
     },
     "execution_count": 7,
     "metadata": {},
     "output_type": "execute_result"
    }
   ],
   "source": [
    "y_rnn1"
   ]
  },
  {
   "cell_type": "code",
   "execution_count": 13,
   "metadata": {},
   "outputs": [],
   "source": [
    "rnn1.save(\"saved_model.keras\")"
   ]
  },
  {
   "cell_type": "code",
   "execution_count": 14,
   "metadata": {},
   "outputs": [],
   "source": [
    "from tensorflow import keras"
   ]
  },
  {
   "cell_type": "code",
   "execution_count": 18,
   "metadata": {},
   "outputs": [],
   "source": [
    "rnn2 = keras.models.load_model(\"saved_model.keras\")"
   ]
  },
  {
   "cell_type": "code",
   "execution_count": 19,
   "metadata": {},
   "outputs": [
    {
     "name": "stdout",
     "output_type": "stream",
     "text": [
      "1/1 [==============================] - 0s 72ms/step\n"
     ]
    }
   ],
   "source": [
    "y_rnn2 = rnn2.predict(encode_input_data([\"House Dem Aide: We Didn’t Even See Comey’s Letter Until Jason Chaffetz Tweeted It\"]))"
   ]
  },
  {
   "cell_type": "code",
   "execution_count": 20,
   "metadata": {},
   "outputs": [
    {
     "data": {
      "text/plain": [
       "array([[0.9992551]], dtype=float32)"
      ]
     },
     "execution_count": 20,
     "metadata": {},
     "output_type": "execute_result"
    }
   ],
   "source": [
    "y_rnn2"
   ]
  }
 ],
 "metadata": {
  "kernelspec": {
   "display_name": "Python 3",
   "language": "python",
   "name": "python3"
  },
  "language_info": {
   "codemirror_mode": {
    "name": "ipython",
    "version": 3
   },
   "file_extension": ".py",
   "mimetype": "text/x-python",
   "name": "python",
   "nbconvert_exporter": "python",
   "pygments_lexer": "ipython3",
   "version": "3.10.13"
  }
 },
 "nbformat": 4,
 "nbformat_minor": 2
}
