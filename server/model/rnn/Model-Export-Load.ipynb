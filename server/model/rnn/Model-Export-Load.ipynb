{
 "cells": [
  {
   "cell_type": "code",
   "execution_count": 1,
   "metadata": {},
   "outputs": [
    {
     "name": "stderr",
     "output_type": "stream",
     "text": [
      "/var/folders/5z/26yp_z91779dj66ktjgtwdph0000gn/T/ipykernel_15810/2283024198.py:1: DeprecationWarning: \n",
      "Pyarrow will become a required dependency of pandas in the next major release of pandas (pandas 3.0),\n",
      "(to allow more performant data types, such as the Arrow string type, and better interoperability with other libraries)\n",
      "but was not found to be installed on your system.\n",
      "If this would cause problems for you,\n",
      "please provide us feedback at https://github.com/pandas-dev/pandas/issues/54466\n",
      "        \n",
      "  import pandas as pd\n"
     ]
    }
   ],
   "source": [
    "import pandas as pd\n",
    "import numpy as np\n",
    "# import matplotlib.pyplot as plt\n",
    "import seaborn as sns\n",
    "import nltk\n",
    "import re\n",
    "from nltk.corpus import stopwords\n",
    "# nltk.download('stopwords')\n",
    "from nltk.stem.porter import PorterStemmer\n",
    "import tensorflow as tf\n",
    "from tensorflow import keras\n",
    "import os\n",
    "from tensorflow.keras.layers import Embedding\n",
    "from tensorflow.keras.preprocessing.sequence import pad_sequences\n",
    "from tensorflow.keras.models import Sequential\n",
    "from tensorflow.keras.preprocessing.text import one_hot\n",
    "from tensorflow.keras.optimizers.legacy import Adam\n",
    "\n"
   ]
  },
  {
   "cell_type": "code",
   "execution_count": 2,
   "metadata": {},
   "outputs": [],
   "source": [
    "df = pd.read_csv(\"datasets/train.csv\")\n",
    "\n",
    "split = 0.8\n",
    "df = df.sample(frac=1).dropna()\n",
    "train = df[:int(0.8*df.shape[0])]\n",
    "test = df[int(0.8*df.shape[0]):]\n",
    "\n",
    "x_train, y_train = train[\"title\"], train[\"label\"]\n",
    "x_test, y_test = test[\"title\"], test[\"label\"]\n",
    "\n",
    "x_train_enc = [one_hot(words,10000) for words in x_train]\n",
    "x_test_enc = [one_hot(words,10000) for words in x_test]\n",
    "\n",
    "sent_length=10\n",
    "x_train_enc_padded = pad_sequences(x_train_enc,padding='pre',maxlen=sent_length)\n",
    "\n",
    "x_test_enc_padded = pad_sequences(x_test_enc,padding='pre',maxlen=sent_length)"
   ]
  },
  {
   "cell_type": "code",
   "execution_count": 3,
   "metadata": {},
   "outputs": [
    {
     "data": {
      "text/plain": [
       "(14628, 10)"
      ]
     },
     "execution_count": 3,
     "metadata": {},
     "output_type": "execute_result"
    }
   ],
   "source": [
    "x_train_enc_padded.shape"
   ]
  },
  {
   "cell_type": "code",
   "execution_count": 48,
   "metadata": {},
   "outputs": [],
   "source": [
    "def create_model():\n",
    "    model = tf.keras.Sequential([\n",
    "    keras.layers.Dense(512, input_shape=(10, )),\n",
    "    keras.layers.Dropout(0.2),\n",
    "    keras.layers.Dense(1, activation = \"sigmoid\"),\n",
    "    ])\n",
    "    model.compile(optimizer = Adam(lr=1e-3), loss=tf.keras.losses.BinaryCrossentropy(from_logits=True),metrics=[tf.keras.metrics.BinaryAccuracy()])\n",
    "    return model"
   ]
  },
  {
   "cell_type": "code",
   "execution_count": 75,
   "metadata": {},
   "outputs": [
    {
     "name": "stdout",
     "output_type": "stream",
     "text": [
      "Model: \"sequential_15\"\n",
      "_________________________________________________________________\n",
      " Layer (type)                Output Shape              Param #   \n",
      "=================================================================\n",
      " dense_30 (Dense)            (None, 512)               5632      \n",
      "                                                                 \n",
      " dropout_15 (Dropout)        (None, 512)               0         \n",
      "                                                                 \n",
      " dense_31 (Dense)            (None, 1)                 513       \n",
      "                                                                 \n",
      "=================================================================\n",
      "Total params: 6145 (24.00 KB)\n",
      "Trainable params: 6145 (24.00 KB)\n",
      "Non-trainable params: 0 (0.00 Byte)\n",
      "_________________________________________________________________\n"
     ]
    }
   ],
   "source": [
    "model = create_model()\n",
    "model.summary()\n"
   ]
  },
  {
   "cell_type": "code",
   "execution_count": 76,
   "metadata": {},
   "outputs": [],
   "source": [
    "checkpoint_path = \"training_1/checkpoints\"\n",
    "checkpoint_dir = os.path.dirname(checkpoint_path)\n",
    "cp_callback = tf.keras.callbacks.ModelCheckpoint(filepath=checkpoint_path, save_weights_only=True, verbose=1)\n"
   ]
  },
  {
   "cell_type": "code",
   "execution_count": 77,
   "metadata": {},
   "outputs": [
    {
     "name": "stdout",
     "output_type": "stream",
     "text": [
      "Epoch 1/20\n"
     ]
    },
    {
     "name": "stderr",
     "output_type": "stream",
     "text": [
      "/Users/athulanoop/.local/share/mise/installs/python/3.10/lib/python3.10/site-packages/keras/src/backend.py:5818: UserWarning: \"`binary_crossentropy` received `from_logits=True`, but the `output` argument was produced by a Sigmoid activation and thus does not represent logits. Was this intended?\n",
      "  output, from_logits = _get_logits(\n"
     ]
    },
    {
     "name": "stdout",
     "output_type": "stream",
     "text": [
      "421/458 [==========================>...] - ETA: 0s - loss: 191.6139 - binary_accuracy: 0.6548\n",
      "Epoch 1: saving model to training_1/checkpoints\n",
      "458/458 [==============================] - 1s 1ms/step - loss: 185.6550 - binary_accuracy: 0.6542 - val_loss: 51.7566 - val_binary_accuracy: 0.7255\n",
      "Epoch 2/20\n",
      "416/458 [==========================>...] - ETA: 0s - loss: 85.6636 - binary_accuracy: 0.6484\n",
      "Epoch 2: saving model to training_1/checkpoints\n",
      "458/458 [==============================] - 1s 1ms/step - loss: 83.2463 - binary_accuracy: 0.6482 - val_loss: 28.9469 - val_binary_accuracy: 0.7017\n",
      "Epoch 3/20\n",
      "421/458 [==========================>...] - ETA: 0s - loss: 41.4392 - binary_accuracy: 0.6505\n",
      "Epoch 3: saving model to training_1/checkpoints\n",
      "458/458 [==============================] - 1s 1ms/step - loss: 40.0599 - binary_accuracy: 0.6514 - val_loss: 18.4452 - val_binary_accuracy: 0.7353\n",
      "Epoch 4/20\n",
      "429/458 [===========================>..] - ETA: 0s - loss: 17.1437 - binary_accuracy: 0.6524\n",
      "Epoch 4: saving model to training_1/checkpoints\n",
      "458/458 [==============================] - 1s 1ms/step - loss: 16.8032 - binary_accuracy: 0.6535 - val_loss: 13.6832 - val_binary_accuracy: 0.4810\n",
      "Epoch 5/20\n",
      "418/458 [==========================>...] - ETA: 0s - loss: 10.9404 - binary_accuracy: 0.6472\n",
      "Epoch 5: saving model to training_1/checkpoints\n",
      "458/458 [==============================] - 1s 1ms/step - loss: 10.8956 - binary_accuracy: 0.6495 - val_loss: 13.8569 - val_binary_accuracy: 0.6287\n",
      "Epoch 6/20\n",
      "419/458 [==========================>...] - ETA: 0s - loss: 9.2297 - binary_accuracy: 0.6508\n",
      "Epoch 6: saving model to training_1/checkpoints\n",
      "458/458 [==============================] - 1s 1ms/step - loss: 9.1422 - binary_accuracy: 0.6501 - val_loss: 11.5867 - val_binary_accuracy: 0.5100\n",
      "Epoch 7/20\n",
      "418/458 [==========================>...] - ETA: 0s - loss: 9.4333 - binary_accuracy: 0.6483\n",
      "Epoch 7: saving model to training_1/checkpoints\n",
      "458/458 [==============================] - 1s 1ms/step - loss: 9.3895 - binary_accuracy: 0.6489 - val_loss: 7.5223 - val_binary_accuracy: 0.6697\n",
      "Epoch 8/20\n",
      "431/458 [===========================>..] - ETA: 0s - loss: 7.7855 - binary_accuracy: 0.6462\n",
      "Epoch 8: saving model to training_1/checkpoints\n",
      "458/458 [==============================] - 1s 1ms/step - loss: 7.7711 - binary_accuracy: 0.6471 - val_loss: 8.6275 - val_binary_accuracy: 0.6853\n",
      "Epoch 9/20\n",
      "419/458 [==========================>...] - ETA: 0s - loss: 7.8562 - binary_accuracy: 0.6461\n",
      "Epoch 9: saving model to training_1/checkpoints\n",
      "458/458 [==============================] - 1s 1ms/step - loss: 7.6870 - binary_accuracy: 0.6479 - val_loss: 6.7993 - val_binary_accuracy: 0.6314\n",
      "Epoch 10/20\n",
      "418/458 [==========================>...] - ETA: 0s - loss: 6.9873 - binary_accuracy: 0.6477\n",
      "Epoch 10: saving model to training_1/checkpoints\n",
      "458/458 [==============================] - 1s 1ms/step - loss: 7.0128 - binary_accuracy: 0.6489 - val_loss: 5.6573 - val_binary_accuracy: 0.6639\n",
      "Epoch 11/20\n",
      "423/458 [==========================>...] - ETA: 0s - loss: 5.9000 - binary_accuracy: 0.6499\n",
      "Epoch 11: saving model to training_1/checkpoints\n",
      "458/458 [==============================] - 1s 1ms/step - loss: 5.8390 - binary_accuracy: 0.6481 - val_loss: 8.7460 - val_binary_accuracy: 0.5871\n",
      "Epoch 12/20\n",
      "410/458 [=========================>....] - ETA: 0s - loss: 5.8087 - binary_accuracy: 0.6512\n",
      "Epoch 12: saving model to training_1/checkpoints\n",
      "458/458 [==============================] - 1s 1ms/step - loss: 5.6476 - binary_accuracy: 0.6537 - val_loss: 7.4967 - val_binary_accuracy: 0.5778\n",
      "Epoch 13/20\n",
      "425/458 [==========================>...] - ETA: 0s - loss: 4.4235 - binary_accuracy: 0.6491\n",
      "Epoch 13: saving model to training_1/checkpoints\n",
      "458/458 [==============================] - 1s 1ms/step - loss: 4.4637 - binary_accuracy: 0.6483 - val_loss: 5.4979 - val_binary_accuracy: 0.6475\n",
      "Epoch 14/20\n",
      "428/458 [===========================>..] - ETA: 0s - loss: 3.8809 - binary_accuracy: 0.6440\n",
      "Epoch 14: saving model to training_1/checkpoints\n",
      "458/458 [==============================] - 1s 1ms/step - loss: 3.8176 - binary_accuracy: 0.6439 - val_loss: 2.8531 - val_binary_accuracy: 0.5726\n",
      "Epoch 15/20\n",
      "434/458 [===========================>..] - ETA: 0s - loss: 2.7577 - binary_accuracy: 0.6425\n",
      "Epoch 15: saving model to training_1/checkpoints\n",
      "458/458 [==============================] - 1s 1ms/step - loss: 2.7182 - binary_accuracy: 0.6410 - val_loss: 2.2565 - val_binary_accuracy: 0.6035\n",
      "Epoch 16/20\n",
      "402/458 [=========================>....] - ETA: 0s - loss: 2.0925 - binary_accuracy: 0.6508\n",
      "Epoch 16: saving model to training_1/checkpoints\n",
      "458/458 [==============================] - 0s 1ms/step - loss: 2.0286 - binary_accuracy: 0.6531 - val_loss: 1.9796 - val_binary_accuracy: 0.6380\n",
      "Epoch 17/20\n",
      "431/458 [===========================>..] - ETA: 0s - loss: 1.5809 - binary_accuracy: 0.6529\n",
      "Epoch 17: saving model to training_1/checkpoints\n",
      "458/458 [==============================] - 1s 1ms/step - loss: 1.5474 - binary_accuracy: 0.6565 - val_loss: 1.5010 - val_binary_accuracy: 0.6544\n",
      "Epoch 18/20\n",
      "420/458 [==========================>...] - ETA: 0s - loss: 1.1825 - binary_accuracy: 0.6560\n",
      "Epoch 18: saving model to training_1/checkpoints\n",
      "458/458 [==============================] - 1s 1ms/step - loss: 1.1701 - binary_accuracy: 0.6571 - val_loss: 0.6927 - val_binary_accuracy: 0.6828\n",
      "Epoch 19/20\n",
      "438/458 [===========================>..] - ETA: 0s - loss: 0.8669 - binary_accuracy: 0.6740\n",
      "Epoch 19: saving model to training_1/checkpoints\n",
      "458/458 [==============================] - 1s 1ms/step - loss: 0.8645 - binary_accuracy: 0.6732 - val_loss: 0.7724 - val_binary_accuracy: 0.6833\n",
      "Epoch 20/20\n",
      "427/458 [==========================>...] - ETA: 0s - loss: 0.7799 - binary_accuracy: 0.6831\n",
      "Epoch 20: saving model to training_1/checkpoints\n",
      "458/458 [==============================] - 1s 1ms/step - loss: 0.7715 - binary_accuracy: 0.6840 - val_loss: 0.6398 - val_binary_accuracy: 0.6689\n"
     ]
    },
    {
     "data": {
      "text/plain": [
       "<keras.src.callbacks.History at 0x17ce98f70>"
      ]
     },
     "execution_count": 77,
     "metadata": {},
     "output_type": "execute_result"
    }
   ],
   "source": [
    "model.fit(x_train_enc_padded, y_train, epochs = 20, validation_data=(x_test_enc_padded, y_test), callbacks=[cp_callback])\n"
   ]
  },
  {
   "cell_type": "code",
   "execution_count": 78,
   "metadata": {},
   "outputs": [
    {
     "name": "stdout",
     "output_type": "stream",
     "text": [
      "115/115 - 0s - loss: 0.6398 - binary_accuracy: 0.6689 - 84ms/epoch - 732us/step\n",
      "model, accuracy: 66.89%\n"
     ]
    }
   ],
   "source": [
    "loss, acc = model.evaluate(x_test_enc_padded,y_test, verbose=2)\n",
    "print(f\"model, accuracy: {100*acc:5.2f}%\")"
   ]
  },
  {
   "cell_type": "code",
   "execution_count": 79,
   "metadata": {},
   "outputs": [
    {
     "name": "stdout",
     "output_type": "stream",
     "text": [
      "1/1 [==============================] - 0s 38ms/step\n"
     ]
    },
    {
     "data": {
      "text/plain": [
       "array([[0.89881784]], dtype=float32)"
      ]
     },
     "execution_count": 79,
     "metadata": {},
     "output_type": "execute_result"
    }
   ],
   "source": [
    "inp = [\"FLYNN: Hillary Clinton, Big Woman on Campus - Breitbart\"]\n",
    "\n",
    "input_proces = encode_input_data(inp)\n",
    "out = model.predict(input_proces)\n",
    "out"
   ]
  },
  {
   "cell_type": "code",
   "execution_count": 80,
   "metadata": {},
   "outputs": [],
   "source": [
    "model_loaded = create_model()"
   ]
  },
  {
   "cell_type": "code",
   "execution_count": 81,
   "metadata": {},
   "outputs": [
    {
     "name": "stdout",
     "output_type": "stream",
     "text": [
      "115/115 [==============================] - 0s 590us/step - loss: 228.9534 - binary_accuracy: 0.5885\n",
      "Untrained model, accuracy: 58.85%\n"
     ]
    }
   ],
   "source": [
    "loss_loaded, acc_loaded = model_loaded.evaluate(x_test_enc_padded, y_test)\n",
    "print(f\"Untrained model, accuracy: {100*acc_loaded:5.2f}%\")\n"
   ]
  },
  {
   "cell_type": "code",
   "execution_count": 82,
   "metadata": {},
   "outputs": [
    {
     "data": {
      "text/plain": [
       "<tensorflow.python.checkpoint.checkpoint.CheckpointLoadStatus at 0x17ce81de0>"
      ]
     },
     "execution_count": 82,
     "metadata": {},
     "output_type": "execute_result"
    }
   ],
   "source": [
    "model_loaded.load_weights(checkpoint_path)"
   ]
  },
  {
   "cell_type": "code",
   "execution_count": 83,
   "metadata": {},
   "outputs": [
    {
     "name": "stdout",
     "output_type": "stream",
     "text": [
      "115/115 [==============================] - 0s 572us/step - loss: 0.6398 - binary_accuracy: 0.6689\n",
      "Trained model, accuracy: 66.89%\n"
     ]
    }
   ],
   "source": [
    "loss_loaded_trained, acc_loaded_trained = model_loaded.evaluate(x_test_enc_padded, y_test)\n",
    "print(f\"Trained model, accuracy: {100*acc_loaded_trained:5.2f}%\")"
   ]
  },
  {
   "cell_type": "code",
   "execution_count": 86,
   "metadata": {},
   "outputs": [
    {
     "name": "stdout",
     "output_type": "stream",
     "text": [
      "1/1 [==============================] - 0s 34ms/step\n"
     ]
    },
    {
     "data": {
      "text/plain": [
       "array([[0.89881784]], dtype=float32)"
      ]
     },
     "execution_count": 86,
     "metadata": {},
     "output_type": "execute_result"
    }
   ],
   "source": [
    "out = model_loaded.predict(input_proces)\n",
    "out"
   ]
  },
  {
   "cell_type": "code",
   "execution_count": 71,
   "metadata": {},
   "outputs": [],
   "source": [
    "modelServer = load_model(\n",
    "        os.path.join(\"training_1/checkpoints\")\n",
    "    )\n"
   ]
  },
  {
   "cell_type": "code",
   "execution_count": 72,
   "metadata": {},
   "outputs": [],
   "source": [
    "inp = [\"FLYNN: Hillary Clinton, Big Woman on Campus - Breitbart\"]\n",
    "\n",
    "input_proces = encode_input_data(inp)\n"
   ]
  },
  {
   "cell_type": "code",
   "execution_count": 73,
   "metadata": {},
   "outputs": [
    {
     "name": "stdout",
     "output_type": "stream",
     "text": [
      "1/1 [==============================] - 0s 42ms/step\n"
     ]
    },
    {
     "data": {
      "text/plain": [
       "array([[0.15152659]], dtype=float32)"
      ]
     },
     "execution_count": 73,
     "metadata": {},
     "output_type": "execute_result"
    }
   ],
   "source": [
    "out = model.predict(input_proces)\n",
    "out"
   ]
  },
  {
   "cell_type": "code",
   "execution_count": null,
   "metadata": {},
   "outputs": [],
   "source": []
  }
 ],
 "metadata": {
  "kernelspec": {
   "display_name": "Python 3",
   "language": "python",
   "name": "python3"
  },
  "language_info": {
   "codemirror_mode": {
    "name": "ipython",
    "version": 3
   },
   "file_extension": ".py",
   "mimetype": "text/x-python",
   "name": "python",
   "nbconvert_exporter": "python",
   "pygments_lexer": "ipython3",
   "version": "3.10.13"
  }
 },
 "nbformat": 4,
 "nbformat_minor": 2
}
